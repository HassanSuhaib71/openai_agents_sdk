{
  "nbformat": 4,
  "nbformat_minor": 0,
  "metadata": {
    "colab": {
      "provenance": [],
      "authorship_tag": "ABX9TyOdjJsetynMoBpUV+kIyHRZ",
      "include_colab_link": true
    },
    "kernelspec": {
      "name": "python3",
      "display_name": "Python 3"
    },
    "language_info": {
      "name": "python"
    }
  },
  "cells": [
    {
      "cell_type": "markdown",
      "metadata": {
        "id": "view-in-github",
        "colab_type": "text"
      },
      "source": [
        "<a href=\"https://colab.research.google.com/github/HassanSuhaib71/openai_agents_sdk/blob/main/01_hello_agent.ipynb\" target=\"_parent\"><img src=\"https://colab.research.google.com/assets/colab-badge.svg\" alt=\"Open In Colab\"/></a>"
      ]
    },
    {
      "cell_type": "code",
      "execution_count": null,
      "metadata": {
        "colab": {
          "base_uri": "https://localhost:8080/"
        },
        "id": "Vm98xmCkdCNM",
        "outputId": "9eaf7e44-cd83-4b83-9bbe-3d70e3e44007"
      },
      "outputs": [
        {
          "output_type": "stream",
          "name": "stdout",
          "text": [
            "\u001b[?25l   \u001b[90m━━━━━━━━━━━━━━━━━━━━━━━━━━━━━━━━━━━━━━━━\u001b[0m \u001b[32m0.0/126.7 kB\u001b[0m \u001b[31m?\u001b[0m eta \u001b[36m-:--:--\u001b[0m\r\u001b[2K   \u001b[90m━━━━━━━━━━━━━━━━━━━━━━━━━━━━━━━━━━━━━━━━\u001b[0m \u001b[32m126.7/126.7 kB\u001b[0m \u001b[31m5.0 MB/s\u001b[0m eta \u001b[36m0:00:00\u001b[0m\n",
            "\u001b[?25h\u001b[?25l   \u001b[90m━━━━━━━━━━━━━━━━━━━━━━━━━━━━━━━━━━━━━━━━\u001b[0m \u001b[32m0.0/129.3 kB\u001b[0m \u001b[31m?\u001b[0m eta \u001b[36m-:--:--\u001b[0m\r\u001b[2K   \u001b[90m━━━━━━━━━━━━━━━━━━━━━━━━━━━━━━━━━━━━━━━━\u001b[0m \u001b[32m129.3/129.3 kB\u001b[0m \u001b[31m9.2 MB/s\u001b[0m eta \u001b[36m0:00:00\u001b[0m\n",
            "\u001b[2K   \u001b[90m━━━━━━━━━━━━━━━━━━━━━━━━━━━━━━━━━━━━━━━━\u001b[0m \u001b[32m130.2/130.2 kB\u001b[0m \u001b[31m9.1 MB/s\u001b[0m eta \u001b[36m0:00:00\u001b[0m\n",
            "\u001b[2K   \u001b[90m━━━━━━━━━━━━━━━━━━━━━━━━━━━━━━━━━━━━━━━━\u001b[0m \u001b[32m45.2/45.2 kB\u001b[0m \u001b[31m2.9 MB/s\u001b[0m eta \u001b[36m0:00:00\u001b[0m\n",
            "\u001b[?25h"
          ]
        }
      ],
      "source": [
        "!pip install -Uq openai-agents\n"
      ]
    },
    {
      "cell_type": "code",
      "source": [
        "import nest_asyncio\n",
        "nest_asyncio.apply()"
      ],
      "metadata": {
        "id": "XGgIZNhDqyzH"
      },
      "execution_count": null,
      "outputs": []
    },
    {
      "cell_type": "code",
      "source": [
        "import os\n",
        "\n",
        "from agents import Agent, Runner, AsyncOpenAI, OpenAIChatCompletionsModel\n",
        "from agents.run import RunConfig\n",
        "from google.colab import userdata\n"
      ],
      "metadata": {
        "id": "mdmwX40OraRQ"
      },
      "execution_count": null,
      "outputs": []
    },
    {
      "cell_type": "code",
      "source": [
        "gemini_api_key = userdata.get(\"GEMINI_API_KEY\")\n",
        "\n",
        "\n",
        "external_client = AsyncOpenAI(\n",
        "    api_key=gemini_api_key,\n",
        "    base_url=\"https://generativelanguage.googleapis.com/v1beta/openai/\",\n",
        ")\n",
        "\n",
        "model = OpenAIChatCompletionsModel(\n",
        "    model = \"gemini-2.0-flash\",\n",
        "    openai_client= external_client,\n",
        ")\n",
        "\n",
        "config = RunConfig(\n",
        "    model= model,\n",
        "    model_provider= external_client,\n",
        "    tracing_disabled= True\n",
        ")\n",
        "\n"
      ],
      "metadata": {
        "id": "WCoCjRZrq8xE"
      },
      "execution_count": null,
      "outputs": []
    },
    {
      "cell_type": "code",
      "source": [
        "agent : Agent = Agent(name=\"Assistant\", instructions=\"You are helpful assistant.\", model=model)\n",
        "\n",
        "result = Runner.run_sync(agent, \"Who is the founder of Pakistan.\", run_config=config)\n",
        "\n",
        "print(\"\\nCalling Agent\\n\")\n",
        "print(result.final_output)"
      ],
      "metadata": {
        "colab": {
          "base_uri": "https://localhost:8080/"
        },
        "id": "90_iGircuTFO",
        "outputId": "8f26096e-cbf9-478e-977e-6e10cc1328a3"
      },
      "execution_count": null,
      "outputs": [
        {
          "output_type": "stream",
          "name": "stdout",
          "text": [
            "\n",
            "Calling Agent\n",
            "\n",
            "Muhammad Ali Jinnah is considered the founder of Pakistan. He was the leader of the All-India Muslim League and advocated for the creation of a separate nation for Muslims in British India.\n",
            "\n"
          ]
        }
      ]
    },
    {
      "cell_type": "code",
      "source": [
        "import asyncio\n",
        "\n",
        "from agents import Agent, Runner\n",
        "\n",
        "async def main():\n",
        "  agent = Agent(\n",
        "      name = \"Assistant\",\n",
        "      instructions= \"You only respond in haikus.\"\n",
        "  )\n",
        "\n",
        "\n",
        "result = await Runner.run(agent, \"Tell me about recursive Programing.\", run_config=config)\n",
        "\n",
        "print(\"\\nCalling Agent\\n\")\n",
        "print(result.final_output)"
      ],
      "metadata": {
        "colab": {
          "base_uri": "https://localhost:8080/"
        },
        "id": "Flht16TwvTiD",
        "outputId": "0f97a5dd-1796-4011-b3f3-d79672403b63"
      },
      "execution_count": null,
      "outputs": [
        {
          "output_type": "stream",
          "name": "stdout",
          "text": [
            "\n",
            "Calling Agent\n",
            "\n",
            "Okay, let's dive into the world of recursive programming!\n",
            "\n",
            "**What is Recursive Programming?**\n",
            "\n",
            "At its heart, recursive programming is a technique where a function calls itself within its own definition.  Think of it like a set of Russian nesting dolls (Matryoshka dolls): each doll contains a smaller version of itself until you reach the smallest, indivisible doll.\n",
            "\n",
            "**Key Concepts**\n",
            "\n",
            "1.  **Base Case:**  Every recursive function *must* have a base case. This is a condition that stops the recursion.  Without a base case, the function would call itself indefinitely, leading to a stack overflow error (like an infinite loop).  The base case provides a direct, non-recursive solution for a specific input.\n",
            "\n",
            "2.  **Recursive Step:** This is the part of the function where it calls itself.  The recursive step breaks the original problem down into smaller, self-similar subproblems.  Each recursive call should bring you closer to the base case.\n",
            "\n",
            "**How it Works (The Process)**\n",
            "\n",
            "1.  **Problem Decomposition:** A recursive algorithm breaks down a problem into smaller, identical subproblems.\n",
            "2.  **Self-Call:** The function calls itself to solve these smaller subproblems.\n",
            "3.  **Base Case Check:** Before each recursive call, the function checks if the base case has been reached.\n",
            "4.  **Base Case Execution:** If the base case is met, the function returns a direct result (without further recursion).\n",
            "5.  **Result Combination:** The results from the recursive calls are combined to produce the final solution.\n",
            "\n",
            "**Simple Example: Calculating Factorial**\n",
            "\n",
            "The factorial of a non-negative integer `n` (denoted as `n!`) is the product of all positive integers less than or equal to `n`. For example, 5! = 5 * 4 * 3 * 2 * 1 = 120.\n",
            "\n",
            "Here's how you can implement factorial recursively in Python:\n",
            "\n",
            "```python\n",
            "def factorial(n):\n",
            "  \"\"\"\n",
            "  Calculates the factorial of a non-negative integer n recursively.\n",
            "  \"\"\"\n",
            "  # Base case: factorial of 0 is 1\n",
            "  if n == 0:\n",
            "    return 1\n",
            "  # Recursive step: n! = n * (n-1)!\n",
            "  else:\n",
            "    return n * factorial(n-1)\n",
            "\n",
            "# Example usage\n",
            "print(factorial(5))  # Output: 120\n",
            "```\n",
            "\n",
            "**Explanation**\n",
            "\n",
            "*   **Base Case:** `if n == 0: return 1`  If `n` is 0, we return 1 directly (0! is defined as 1). This stops the recursion.\n",
            "*   **Recursive Step:** `else: return n * factorial(n-1)`  If `n` is not 0, we return `n` multiplied by the factorial of `n-1`.  This breaks the problem down into a smaller factorial calculation.\n",
            "\n",
            "**Tracing the Execution (for `factorial(3)`)**\n",
            "\n",
            "1.  `factorial(3)` is called.\n",
            "2.  `n` is 3, so the `else` block is executed.\n",
            "3.  `return 3 * factorial(2)`  (We need to evaluate `factorial(2)`)\n",
            "4.  `factorial(2)` is called.\n",
            "5.  `n` is 2, so the `else` block is executed.\n",
            "6.  `return 2 * factorial(1)`  (We need to evaluate `factorial(1)`)\n",
            "7.  `factorial(1)` is called.\n",
            "8.  `n` is 1, so the `else` block is executed.\n",
            "9.  `return 1 * factorial(0)`  (We need to evaluate `factorial(0)`)\n",
            "10. `factorial(0)` is called.\n",
            "11. `n` is 0, so the `if` block (base case) is executed.\n",
            "12. `return 1`\n",
            "13. Now the values are returned back up the call stack:\n",
            "    *   `factorial(1)` returns `1 * 1 = 1`\n",
            "    *   `factorial(2)` returns `2 * 1 = 2`\n",
            "    *   `factorial(3)` returns `3 * 2 = 6`\n",
            "\n",
            "**Advantages of Recursion**\n",
            "\n",
            "*   **Elegance and Readability:**  Recursive solutions can be more concise and easier to understand for certain problems, especially those that have a naturally recursive structure (like tree traversals, graph algorithms, and some mathematical functions).\n",
            "*   **Problem Decomposition:** Recursion naturally breaks down complex problems into smaller, self-similar subproblems, making them easier to manage.\n",
            "*   **Natural Fit for Some Data Structures:**  Recursion is often a natural way to work with recursive data structures like trees and linked lists.\n",
            "\n",
            "**Disadvantages of Recursion**\n",
            "\n",
            "*   **Overhead:**  Recursive calls involve function call overhead (creating stack frames, passing arguments), which can be slower than iterative solutions for the same problem.\n",
            "*   **Stack Overflow:** If the recursion goes too deep (i.e., the base case is not reached or the depth is too large), it can lead to a stack overflow error.  Each recursive call adds a new frame to the call stack, and the stack has a limited size.\n",
            "*   **Debugging:**  Debugging recursive functions can be more challenging than debugging iterative functions, as you need to trace the call stack.\n",
            "\n",
            "**When to Use Recursion**\n",
            "\n",
            "*   When the problem can be naturally broken down into smaller, self-similar subproblems.\n",
            "*   When a recursive data structure (e.g., a tree) is involved.\n",
            "*   When elegance and readability are prioritized over performance (and the stack depth is unlikely to be a problem).\n",
            "*   When an iterative solution is significantly more complex and harder to understand.\n",
            "\n",
            "**When to Avoid Recursion**\n",
            "\n",
            "*   When performance is critical and an iterative solution is readily available.\n",
            "*   When the recursion depth could become very large, risking a stack overflow.\n",
            "*   When the iterative solution is significantly simpler and easier to understand.\n",
            "\n",
            "**Common Examples of Problems Solved Recursively**\n",
            "\n",
            "*   **Tree Traversal (Preorder, Inorder, Postorder):**  Visiting each node in a tree in a specific order.\n",
            "*   **Binary Search:**  Efficiently searching for an element in a sorted array.\n",
            "*   **Quicksort and Mergesort:**  Efficient sorting algorithms.\n",
            "*   **Tower of Hanoi:**  A classic puzzle that is elegantly solved recursively.\n",
            "*   **Depth-First Search (DFS) on Graphs:**  Exploring all vertices in a graph.\n",
            "*   **Fractals:** Generating self-similar patterns.\n",
            "*   **Mathematical Functions:**  Calculating factorials, Fibonacci numbers, etc.\n",
            "\n",
            "**Tail Recursion (Optimization)**\n",
            "\n",
            "Tail recursion is a special form of recursion where the recursive call is the very last operation in the function. Some compilers can optimize tail-recursive functions into iterative code, eliminating the function call overhead and preventing stack overflows.  However, Python does *not* perform tail-call optimization.\n",
            "\n",
            "**In Summary**\n",
            "\n",
            "Recursive programming is a powerful technique that can provide elegant and concise solutions for certain types of problems. However, it's important to be aware of its potential drawbacks (overhead, stack overflow) and to choose it judiciously. Always make sure to have a clear base case and a recursive step that brings you closer to the base case. When in doubt, consider whether an iterative solution might be more efficient and easier to maintain.\n",
            "\n"
          ]
        }
      ]
    }
  ]
}